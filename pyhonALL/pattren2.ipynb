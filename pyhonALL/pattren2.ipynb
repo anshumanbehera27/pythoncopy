{
 "cells": [
  {
   "cell_type": "code",
   "execution_count": null,
   "id": "c6b0e9e5",
   "metadata": {},
   "outputs": [],
   "source": [
    "4444\n",
    "4444\n",
    "4444\n",
    "4444"
   ]
  },
  {
   "cell_type": "code",
   "execution_count": null,
   "id": "ca159c9f",
   "metadata": {},
   "outputs": [],
   "source": [
    "55555\n",
    "55555\n",
    "55555\n",
    "55555\n",
    "55555"
   ]
  },
  {
   "cell_type": "code",
   "execution_count": 8,
   "id": "d6f09563",
   "metadata": {},
   "outputs": [
    {
     "name": "stdout",
     "output_type": "stream",
     "text": [
      "6\n",
      "6 6 6 6 6 6 \n",
      "6 6 6 6 6 6 \n",
      "6 6 6 6 6 6 \n",
      "6 6 6 6 6 6 \n",
      "6 6 6 6 6 6 \n",
      "6 6 6 6 6 6 \n"
     ]
    }
   ],
   "source": [
    "n = int(input())\n",
    "\n",
    "for i in range(n):\n",
    "   \n",
    "    for j in range( n):\n",
    "        \n",
    "        print(n,end = \" \")\n",
    "    print()"
   ]
  },
  {
   "cell_type": "code",
   "execution_count": null,
   "id": "56acb39c",
   "metadata": {},
   "outputs": [],
   "source": [
    "1 2 3 4 5\n",
    "2 3 4 5 6\n",
    "3 4 5 6 7\n",
    "4 5 6 7 8\n",
    "5 6 7 8 9"
   ]
  },
  {
   "cell_type": "code",
   "execution_count": 12,
   "id": "02d52cd1",
   "metadata": {},
   "outputs": [
    {
     "name": "stdout",
     "output_type": "stream",
     "text": [
      "5\n",
      "1234523456345674567856789\n"
     ]
    }
   ],
   "source": [
    "n = int(input())\n",
    "for i in range(1,n+1):\n",
    "    for j in range(1,n+1):\n",
    "        print(i+j-1 , end = \"\")\n",
    "    print(                     )"
   ]
  },
  {
   "cell_type": "code",
   "execution_count": null,
   "id": "047c557f",
   "metadata": {},
   "outputs": [],
   "source": [
    "*\n",
    "**\n",
    "***\n",
    "****"
   ]
  },
  {
   "cell_type": "code",
   "execution_count": 15,
   "id": "c1584640",
   "metadata": {},
   "outputs": [
    {
     "name": "stdout",
     "output_type": "stream",
     "text": [
      "4\n",
      "* \n",
      "* * \n",
      "* * * \n",
      "* * * * \n"
     ]
    }
   ],
   "source": [
    "n = int(input())\n",
    "for c in range(1 ,n+1):\n",
    "    for r in range(1,c+1):\n",
    "        print(\"*\",end=\" \")\n",
    "    print()"
   ]
  },
  {
   "cell_type": "code",
   "execution_count": null,
   "id": "9f454982",
   "metadata": {},
   "outputs": [],
   "source": [
    "1\n",
    "22\n",
    "333\n",
    "4444"
   ]
  },
  {
   "cell_type": "code",
   "execution_count": 4,
   "id": "d7e9e867",
   "metadata": {},
   "outputs": [
    {
     "name": "stdout",
     "output_type": "stream",
     "text": [
      "4\n",
      "1\n",
      "22\n",
      "333\n",
      "4444\n"
     ]
    }
   ],
   "source": [
    "n = int(input())\n",
    "for c in range(1,n+1):\n",
    "for r in range(1,c+1):\n",
    "print(c,end=\"\")\n",
    "print()"
   ]
  },
  {
   "cell_type": "code",
   "execution_count": null,
   "id": "85b6af23",
   "metadata": {},
   "outputs": [],
   "source": [
    "1\n",
    "1 2\n",
    "1 2 3\n",
    "1 2 3 4\n",
    "1 2 3 4 5"
   ]
  },
  {
   "cell_type": "code",
   "execution_count": null,
   "id": "0eb2b941",
   "metadata": {},
   "outputs": [],
   "source": []
  },
  {
   "cell_type": "code",
   "execution_count": null,
   "id": "9e87b50d",
   "metadata": {},
   "outputs": [],
   "source": [
    "1\n",
    "11\n",
    "202\n",
    "3003\n",
    "40004"
   ]
  },
  {
   "cell_type": "code",
   "execution_count": 7,
   "id": "914389bc",
   "metadata": {},
   "outputs": [
    {
     "name": "stdout",
     "output_type": "stream",
     "text": [
      "4\n",
      "1\n",
      "11\n",
      "202\n",
      "3003\n",
      "40004\n"
     ]
    }
   ],
   "source": [
    "n = int(input())\n",
    "print(1)\n",
    "for c in range(1,n+1):\n",
    "    for r in range(0,c+1):\n",
    "        if r== 0 or r == c:\n",
    "            print(c,end=\"\")\n",
    "        else:\n",
    "            print(0,end=\"\")\n",
    "        \n",
    "    print()"
   ]
  },
  {
   "cell_type": "code",
   "execution_count": 3,
   "id": "8ce90f5a",
   "metadata": {},
   "outputs": [
    {
     "name": "stdout",
     "output_type": "stream",
     "text": [
      "5\n",
      "12345\n",
      "23456\n",
      "34567\n",
      "45678\n",
      "56789\n"
     ]
    }
   ],
   "source": [
    "n = int(input())\n",
    "for i in range (1,n+1):\n",
    "for j in range (1,n+1):\n",
    "print(i+j-1, end=\"\")\n",
    "    print()\n",
    "        "
   ]
  },
  {
   "cell_type": "code",
   "execution_count": null,
   "id": "3898b354",
   "metadata": {},
   "outputs": [],
   "source": []
  },
  {
   "cell_type": "code",
   "execution_count": null,
   "id": "5f87f91b",
   "metadata": {},
   "outputs": [],
   "source": [
    "1\n",
    "11\n",
    "121\n",
    "1221\n",
    "12221"
   ]
  },
  {
   "cell_type": "code",
   "execution_count": null,
   "id": "1265c4ff",
   "metadata": {},
   "outputs": [],
   "source": []
  },
  {
   "cell_type": "code",
   "execution_count": null,
   "id": "e1d77a63",
   "metadata": {},
   "outputs": [],
   "source": [
    "12345\n",
    "1234\n",
    "123\n",
    "12\n",
    "1"
   ]
  },
  {
   "cell_type": "code",
   "execution_count": null,
   "id": "a9dc6cc4",
   "metadata": {},
   "outputs": [],
   "source": []
  },
  {
   "cell_type": "code",
   "execution_count": null,
   "id": "75524f64",
   "metadata": {},
   "outputs": [],
   "source": [
    "1 2 3 4 5\n",
    "2 3 4 5 6\n",
    "3 4 5 6 7\n",
    "4 5 6 7 8\n",
    "5 6 7 8 9"
   ]
  },
  {
   "cell_type": "code",
   "execution_count": 10,
   "id": "1c8275aa",
   "metadata": {},
   "outputs": [
    {
     "name": "stdout",
     "output_type": "stream",
     "text": [
      "5\n",
      "1 2 3 4 5 \n",
      "2 3 4 5 6 \n",
      "3 4 5 6 7 \n",
      "4 5 6 7 8 \n",
      "5 6 7 8 9 \n"
     ]
    }
   ],
   "source": [
    "n = int(input())\n",
    "for col in range(1,n+1):\n",
    "    for row in range(1 , n+1):\n",
    "        print(col+row-1, end = \" \")\n",
    "    print()"
   ]
  }
 ],
 "metadata": {
  "kernelspec": {
   "display_name": "Python 3 (ipykernel)",
   "language": "python",
   "name": "python3"
  },
  "language_info": {
   "codemirror_mode": {
    "name": "ipython",
    "version": 3
   },
   "file_extension": ".py",
   "mimetype": "text/x-python",
   "name": "python",
   "nbconvert_exporter": "python",
   "pygments_lexer": "ipython3",
   "version": "3.9.7"
  }
 },
 "nbformat": 4,
 "nbformat_minor": 5
}
