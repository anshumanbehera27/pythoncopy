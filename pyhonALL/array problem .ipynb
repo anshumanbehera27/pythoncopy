{
 "cells": [
  {
   "cell_type": "markdown",
   "id": "ff7fec1c",
   "metadata": {},
   "source": [
    "Find Unique\n",
    "\n",
    "2 3 1 6 3 6 2\n",
    "\n",
    "ans 1 "
   ]
  },
  {
   "cell_type": "code",
   "execution_count": 5,
   "id": "b42ed03e",
   "metadata": {},
   "outputs": [
    {
     "name": "stdout",
     "output_type": "stream",
     "text": [
      "9\n"
     ]
    }
   ],
   "source": [
    "def findunique(arr):\n",
    "    n = len(arr)\n",
    "    for i in range(n):\n",
    "        j= 0\n",
    "        for j in range(n):\n",
    "            if i != j :\n",
    "                if arr[i] == arr[j]:\n",
    "                    break\n",
    "            j = j +1\n",
    "        if j == n:\n",
    "            rr[i]return a\n",
    "arr = [2,3,1,1,9,6,3,6,2]\n",
    "print(findunique(arr))\n",
    "\n"
   ]
  },
  {
   "cell_type": "markdown",
   "id": "49de17c1",
   "metadata": {},
   "source": [
    "Find Duplicate\n",
    "1 2 3 2 4 5\n",
    "ans 2 "
   ]
  },
  {
   "cell_type": "code",
   "execution_count": null,
   "id": "f1c7b401",
   "metadata": {},
   "outputs": [],
   "source": []
  },
  {
   "cell_type": "markdown",
   "id": "c608e69f",
   "metadata": {},
   "source": [
    "Pair Sum \n",
    "arr -1 3 6 2 5 4 3 2 4\n",
    "taget - 7\n"
   ]
  },
  {
   "cell_type": "code",
   "execution_count": 16,
   "id": "f161984d",
   "metadata": {},
   "outputs": [
    {
     "name": "stdout",
     "output_type": "stream",
     "text": [
      "2\n"
     ]
    }
   ],
   "source": [
    "def pair(arr,n,sum):\n",
    "    if n <= 0:\n",
    "        return 0\n",
    "    count = 0\n",
    "    for i in range(0,n):\n",
    "        for j in range(i+1,n):\n",
    "            if arr[i]+arr[j] == sum:\n",
    "                count += 1\n",
    "    return count\n",
    "\n",
    "\n",
    "\n",
    "arr = [1, 2 ,3, 2 ,4 ,5,]\n",
    "x = 4\n",
    "print( pair(arr,6,4))\n"
   ]
  },
  {
   "cell_type": "markdown",
   "id": "a969aa4f",
   "metadata": {},
   "source": [
    "Triplet Sum"
   ]
  },
  {
   "cell_type": "code",
   "execution_count": null,
   "id": "50811fe1",
   "metadata": {},
   "outputs": [],
   "source": []
  }
 ],
 "metadata": {
  "kernelspec": {
   "display_name": "Python 3 (ipykernel)",
   "language": "python",
   "name": "python3"
  },
  "language_info": {
   "codemirror_mode": {
    "name": "ipython",
    "version": 3
   },
   "file_extension": ".py",
   "mimetype": "text/x-python",
   "name": "python",
   "nbconvert_exporter": "python",
   "pygments_lexer": "ipython3",
   "version": "3.9.7"
  }
 },
 "nbformat": 4,
 "nbformat_minor": 5
}
