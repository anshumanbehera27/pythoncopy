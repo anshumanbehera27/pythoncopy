{
 "cells": [
  {
   "cell_type": "code",
   "execution_count": 1,
   "id": "acc50401",
   "metadata": {},
   "outputs": [
    {
     "data": {
      "text/plain": [
       "bool"
      ]
     },
     "execution_count": 1,
     "metadata": {},
     "output_type": "execute_result"
    }
   ],
   "source": [
    "a = True\n",
    "type(a)"
   ]
  },
  {
   "cell_type": "code",
   "execution_count": 6,
   "id": "baa570c0",
   "metadata": {},
   "outputs": [
    {
     "data": {
      "text/plain": [
       "True"
      ]
     },
     "execution_count": 6,
     "metadata": {},
     "output_type": "execute_result"
    }
   ],
   "source": [
    "a = 10 \n",
    "b = 20\n",
    "a==b # it use to check the two value is same or not \n"
   ]
  },
  {
   "cell_type": "code",
   "execution_count": 8,
   "id": "669e114e",
   "metadata": {},
   "outputs": [
    {
     "data": {
      "text/plain": [
       "False"
      ]
     },
     "execution_count": 8,
     "metadata": {},
     "output_type": "execute_result"
    }
   ],
   "source": [
    "a = 89\n",
    "b =89\n",
    "a!= b"
   ]
  },
  {
   "cell_type": "code",
   "execution_count": 14,
   "id": "6432563f",
   "metadata": {},
   "outputs": [
    {
     "name": "stdout",
     "output_type": "stream",
     "text": [
      "34\n",
      "yes it is greater then 18\n"
     ]
    }
   ],
   "source": [
    "age = int(input())\n",
    "\n",
    "if (age>=18):\n",
    "    print(\"yes it is greater then 18\")\n",
    "    \n",
    "    \n",
    "else:\n",
    "    print(\"no it is not greater then 18\")\n",
    "    \n",
    "    \n",
    "\n",
    "    "
   ]
  },
  {
   "cell_type": "markdown",
   "id": "49a09954",
   "metadata": {},
   "source": [
    "### check the number is even or odd"
   ]
  },
  {
   "cell_type": "code",
   "execution_count": 16,
   "id": "f70a4581",
   "metadata": {},
   "outputs": [
    {
     "name": "stdout",
     "output_type": "stream",
     "text": [
      "7\n",
      "yes it is odd\n"
     ]
    }
   ],
   "source": [
    "a = int(input())\n",
    "if (a % 2 == 0 ):\n",
    "    print(\"yes it is a even\")\n",
    "else:\n",
    "    print(\"yes it is odd\")"
   ]
  },
  {
   "cell_type": "markdown",
   "id": "4155b816",
   "metadata": {},
   "source": [
    "### check it is positive or negative or zero"
   ]
  },
  {
   "cell_type": "code",
   "execution_count": 20,
   "id": "047bdbc8",
   "metadata": {},
   "outputs": [
    {
     "name": "stdout",
     "output_type": "stream",
     "text": [
      "34\n",
      "it is positive\n"
     ]
    }
   ],
   "source": [
    "num = int(input())\n",
    "if num == 0 :\n",
    "    print(\"it is zero \")\n",
    "elif num > 0 :\n",
    "    print(\"it is positive\")\n",
    "else:\n",
    "    print(\" it is negative \")"
   ]
  }
 ],
 "metadata": {
  "kernelspec": {
   "display_name": "Python 3 (ipykernel)",
   "language": "python",
   "name": "python3"
  },
  "language_info": {
   "codemirror_mode": {
    "name": "ipython",
    "version": 3
   },
   "file_extension": ".py",
   "mimetype": "text/x-python",
   "name": "python",
   "nbconvert_exporter": "python",
   "pygments_lexer": "ipython3",
   "version": "3.9.7"
  }
 },
 "nbformat": 4,
 "nbformat_minor": 5
}
