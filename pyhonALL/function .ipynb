{
 "cells": [
  {
   "cell_type": "code",
   "execution_count": 13,
   "id": "878923b0",
   "metadata": {},
   "outputs": [
    {
     "name": "stdout",
     "output_type": "stream",
     "text": [
      "12 \n",
      "2\n",
      "14\n",
      "10\n",
      "6.0\n",
      "0\n"
     ]
    }
   ],
   "source": [
    "a = int(input())\n",
    "b = int(input())\n",
    "print(sum(a,b))\n",
    "print(sub(a,b))\n",
    "print(div(a,b))\n",
    "print(mod(a,b))"
   ]
  },
  {
   "cell_type": "code",
   "execution_count": null,
   "id": "7666b4d9",
   "metadata": {},
   "outputs": [],
   "source": []
  },
  {
   "cell_type": "code",
   "execution_count": 26,
   "id": "c7e2abc8",
   "metadata": {},
   "outputs": [
    {
     "data": {
      "text/plain": [
       "0.5"
      ]
     },
     "execution_count": 26,
     "metadata": {},
     "output_type": "execute_result"
    }
   ],
   "source": [
    "a = 2 \n",
    "b = 4 \n",
    "div (a ,b)"
   ]
  },
  {
   "cell_type": "code",
   "execution_count": 1,
   "id": "e23e4373",
   "metadata": {},
   "outputs": [],
   "source": [
    "# 1st one sum and sub \n",
    "def wkdefhikfh(a,b):\n",
    "    sum = a + b \n",
    "    \n",
    "\n",
    "    return sum "
   ]
  },
  {
   "cell_type": "code",
   "execution_count": null,
   "id": "e76c5fd2",
   "metadata": {},
   "outputs": [],
   "source": []
  },
  {
   "cell_type": "code",
   "execution_count": 3,
   "id": "7f408ebb",
   "metadata": {},
   "outputs": [],
   "source": [
    "def squre(n):\n",
    "    sre = n ** 2 \n",
    "    return sre \n",
    "    "
   ]
  },
  {
   "cell_type": "code",
   "execution_count": 10,
   "id": "9e916f2d",
   "metadata": {},
   "outputs": [
    {
     "data": {
      "text/plain": [
       "49"
      ]
     },
     "execution_count": 10,
     "metadata": {},
     "output_type": "execute_result"
    }
   ],
   "source": [
    "squre(7)"
   ]
  },
  {
   "cell_type": "code",
   "execution_count": 8,
   "id": "12aa2f66",
   "metadata": {},
   "outputs": [],
   "source": [
    "def sub(a,b):\n",
    "    sub = a - b \n",
    "    return sub"
   ]
  },
  {
   "cell_type": "code",
   "execution_count": 9,
   "id": "b79b08fd",
   "metadata": {},
   "outputs": [],
   "source": [
    "# 2nd one multi \n",
    "def multi (a ,b):\n",
    "    multiple = a * b \n",
    "    return multiple"
   ]
  },
  {
   "cell_type": "code",
   "execution_count": 25,
   "id": "4fe73684",
   "metadata": {},
   "outputs": [],
   "source": [
    "# 3nd one \n",
    "def div (a ,b):\n",
    "    division = a / b \n",
    "    return  division\n"
   ]
  },
  {
   "cell_type": "code",
   "execution_count": 11,
   "id": "450fec9d",
   "metadata": {},
   "outputs": [],
   "source": [
    "# 4th one \n",
    "def mod (a ,b):\n",
    "    mod = a % b \n",
    "    \n",
    "    return mod"
   ]
  },
  {
   "cell_type": "code",
   "execution_count": 1,
   "id": "b076f805",
   "metadata": {},
   "outputs": [
    {
     "name": "stdout",
     "output_type": "stream",
     "text": [
      "120\n"
     ]
    }
   ],
   "source": [
    "n = 100\n",
    "fact =  1 \n",
    "for i in range(1,n+1):\n",
    "    fact = fact * i \n",
    "print(fact)"
   ]
  },
  {
   "cell_type": "code",
   "execution_count": 2,
   "id": "d9e4f828",
   "metadata": {},
   "outputs": [],
   "source": [
    "def multi(n):\n",
    "    fact =  1 \n",
    "    for i in range(1,n+1):\n",
    "        fact = fact * i \n",
    "    return fact\n",
    "    "
   ]
  },
  {
   "cell_type": "code",
   "execution_count": 6,
   "id": "73b8480f",
   "metadata": {},
   "outputs": [
    {
     "data": {
      "text/plain": [
       "5040"
      ]
     },
     "execution_count": 6,
     "metadata": {},
     "output_type": "execute_result"
    }
   ],
   "source": [
    "multi(10)\n",
    "multi(6)\n",
    "multi(7)"
   ]
  },
  {
   "cell_type": "code",
   "execution_count": 11,
   "id": "1f799c92",
   "metadata": {},
   "outputs": [
    {
     "data": {
      "text/plain": [
       "100"
      ]
     },
     "execution_count": 11,
     "metadata": {},
     "output_type": "execute_result"
    }
   ],
   "source": [
    "squre(10)"
   ]
  },
  {
   "cell_type": "code",
   "execution_count": null,
   "id": "92bebb4b",
   "metadata": {},
   "outputs": [],
   "source": [
    "a= int(input())\n",
    "b = int(input())\n",
    "c = int(input())\n",
    "avg = a+b+c // 3\n",
    "print(\"the avg number is \",avg)"
   ]
  },
  {
   "cell_type": "code",
   "execution_count": 8,
   "id": "e7d9f8ac",
   "metadata": {},
   "outputs": [],
   "source": [
    "def avg(a,b,c):\n",
    "    avg =( a+ b + c) // 3 \n",
    "    return avg\n"
   ]
  },
  {
   "cell_type": "code",
   "execution_count": 10,
   "id": "23cec0ef",
   "metadata": {},
   "outputs": [
    {
     "name": "stdout",
     "output_type": "stream",
     "text": [
      "4\n",
      "5\n",
      "6\n"
     ]
    },
    {
     "data": {
      "text/plain": [
       "5"
      ]
     },
     "execution_count": 10,
     "metadata": {},
     "output_type": "execute_result"
    }
   ],
   "source": [
    "f= int(input())\n",
    "g = int(input())\n",
    "\n",
    "h = int(input())\n",
    "avg(f,g,h)\n"
   ]
  },
  {
   "cell_type": "markdown",
   "id": "dcac8e5b",
   "metadata": {},
   "source": [
    "Palindrome number"
   ]
  },
  {
   "cell_type": "code",
   "execution_count": 2,
   "id": "9711525f",
   "metadata": {},
   "outputs": [
    {
     "name": "stdout",
     "output_type": "stream",
     "text": [
      "121\n",
      "True\n"
     ]
    }
   ],
   "source": [
    "n = int(input())  \n",
    "check = n \n",
    "rev = 0 \n",
    "while (n != 0 ):\n",
    "    abc = n % 10 # it will store all the digit one by one \n",
    "    rev = rev * 10 + abc\n",
    "    n = n // 10 \n",
    "if rev == check:\n",
    "    print(True)\n",
    "else:\n",
    "    print(False)"
   ]
  },
  {
   "cell_type": "code",
   "execution_count": 3,
   "id": "846092c1",
   "metadata": {},
   "outputs": [],
   "source": [
    "def ifpolidrom(n):\n",
    "    check = n \n",
    "    rev = 0 \n",
    "    while(n!= 0):\n",
    "        dig = n %10 \n",
    "        rev = rev * 10 + dig \n",
    "        n = n // 10 \n",
    "    if (check == rev):\n",
    "        return True \n",
    "    else:\n",
    "        return False \n",
    "    "
   ]
  },
  {
   "cell_type": "code",
   "execution_count": 5,
   "id": "a2f077ef",
   "metadata": {},
   "outputs": [
    {
     "name": "stdout",
     "output_type": "stream",
     "text": [
      "121\n"
     ]
    },
    {
     "data": {
      "text/plain": [
       "True"
      ]
     },
     "execution_count": 5,
     "metadata": {},
     "output_type": "execute_result"
    }
   ],
   "source": [
    "n = int(input())\n",
    "ifpolidrom(n)\n",
    "\n"
   ]
  },
  {
   "cell_type": "code",
   "execution_count": 4,
   "id": "fcee7fae",
   "metadata": {},
   "outputs": [
    {
     "name": "stdout",
     "output_type": "stream",
     "text": [
      "sum is 45\n"
     ]
    }
   ],
   "source": [
    "#Sum of even & odd\n",
    "num = 9\n",
    "\n",
    "if num < 0:\n",
    "    print(\"Enter a positive no\")\n",
    "else:\n",
    "    sum = 0\n",
    "    while(num > 0):\n",
    "        sum += num\n",
    "        num -= 1\n",
    "print(\"sum is\", sum)"
   ]
  },
  {
   "cell_type": "code",
   "execution_count": 9,
   "id": "c5e0a3fa",
   "metadata": {},
   "outputs": [
    {
     "name": "stdout",
     "output_type": "stream",
     "text": [
      "\n",
      "0 \n",
      "1 \n",
      "2 \n",
      "3 \n",
      "4 \n",
      "5 \n",
      "6 \n",
      "7 \n",
      "8 \n",
      "9 \n",
      "10 \n",
      "11 \n",
      "12 \n",
      "13 \n",
      "14 \n",
      "15 \n",
      "16 \n",
      "17 \n",
      "18 \n",
      "19 \n",
      "20 \n",
      "21 \n",
      "22 \n",
      "23 \n",
      "24 \n",
      "25 \n",
      "26 \n",
      "27 \n",
      "28 \n",
      "29 \n",
      "30 \n",
      "31 \n",
      "32 \n",
      "33 \n",
      "34 \n",
      "35 \n",
      "36 \n",
      "37 \n",
      "38 \n",
      "39 \n",
      "40 \n",
      "41 \n",
      "42 \n",
      "43 \n",
      "44 \n",
      "45 \n",
      "46 \n",
      "47 \n",
      "48 \n",
      "49 \n",
      "50 \n",
      "51 \n",
      "52 \n",
      "53 \n",
      "54 \n",
      "55 \n",
      "56 \n",
      "57 \n",
      "58 \n",
      "59 \n",
      "60 \n",
      "61 \n",
      "62 \n",
      "63 \n",
      "64 \n",
      "65 \n",
      "66 \n",
      "67 \n",
      "68 \n",
      "69 \n",
      "70 \n",
      "71 \n",
      "72 \n",
      "73 \n",
      "74 \n",
      "75 \n",
      "76 \n",
      "77 \n",
      "78 \n",
      "79 \n",
      "80 \n",
      "81 \n",
      "82 \n",
      "83 \n",
      "84 \n",
      "85 \n",
      "86 \n",
      "87 \n",
      "88 \n",
      "89 \n",
      "90 \n",
      "91 \n",
      "92 \n",
      "93 \n",
      "94 \n",
      "95 \n",
      "96 \n",
      "97 \n",
      "98 \n",
      "99 "
     ]
    }
   ],
   "source": [
    "for i in range(100):\n",
    "    print()\n",
    "    print(i , end = \" \")"
   ]
  },
  {
   "cell_type": "code",
   "execution_count": null,
   "id": "a5c94d4b",
   "metadata": {},
   "outputs": [],
   "source": [
    "# of even & odd\n",
    "num = 9\n",
    "\n",
    "if num < 0:\n",
    "    print(\"Emnter a positive no\")\n",
    "else:\n",
    "    sum = 0\n",
    "    while(num > 0):\n",
    "        sum += num\n",
    "        num -= 1\n",
    "print(\"sum is\", sum)"
   ]
  },
  {
   "cell_type": "code",
   "execution_count": null,
   "id": "d1fc1f60",
   "metadata": {},
   "outputs": [],
   "source": []
  },
  {
   "cell_type": "code",
   "execution_count": null,
   "id": "9aeb669a",
   "metadata": {},
   "outputs": [],
   "source": [
    "a= int(input())\n",
    "b = int(input())\n",
    "c = int(input())\n",
    "avg = a+b+c // 3\n",
    "print(\"the avg number is \",avg)"
   ]
  },
  {
   "cell_type": "code",
   "execution_count": 14,
   "id": "6e818248",
   "metadata": {},
   "outputs": [],
   "source": [
    "c"
   ]
  },
  {
   "cell_type": "code",
   "execution_count": 15,
   "id": "eef15cac",
   "metadata": {},
   "outputs": [
    {
     "data": {
      "text/plain": [
       "20"
      ]
     },
     "execution_count": 15,
     "metadata": {},
     "output_type": "execute_result"
    }
   ],
   "source": [
    "avg(10,20,30)"
   ]
  },
  {
   "cell_type": "code",
   "execution_count": 7,
   "id": "c615c530",
   "metadata": {},
   "outputs": [
    {
     "name": "stdout",
     "output_type": "stream",
     "text": [
      "4\n",
      "5\n",
      "6\n",
      "the avg number is  11\n"
     ]
    }
   ],
   "source": [
    "a= int(input())\n",
    "b = int(input())\n",
    "c = int(input())\n",
    "avg = a+b+c // 3\n",
    "print(\"the avg number is \",avg)"
   ]
  },
  {
   "cell_type": "code",
   "execution_count": 8,
   "id": "666e51b4",
   "metadata": {},
   "outputs": [
    {
     "data": {
      "text/plain": [
       "9"
      ]
     },
     "execution_count": 8,
     "metadata": {},
     "output_type": "execute_result"
    }
   ],
   "source": [
    "sum(4,5)"
   ]
  }
 ],
 "metadata": {
  "kernelspec": {
   "display_name": "Python 3 (ipykernel)",
   "language": "python",
   "name": "python3"
  },
  "language_info": {
   "codemirror_mode": {
    "name": "ipython",
    "version": 3
   },
   "file_extension": ".py",
   "mimetype": "text/x-python",
   "name": "python",
   "nbconvert_exporter": "python",
   "pygments_lexer": "ipython3",
   "version": "3.9.7"
  }
 },
 "nbformat": 4,
 "nbformat_minor": 5
}
