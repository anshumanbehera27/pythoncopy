{
 "cells": [
  {
   "cell_type": "code",
   "execution_count": 2,
   "id": "ccc938a9",
   "metadata": {},
   "outputs": [
    {
     "name": "stdout",
     "output_type": "stream",
     "text": [
      "1\n",
      "2\n"
     ]
    }
   ],
   "source": [
    "class Mapnode:\n",
    "    def __init__(self,key,value):\n",
    "        self.key = key\n",
    "        self.value = value\n",
    "        self.next = None\n",
    "class Map:\n",
    "    def __init__(self):\n",
    "        self.bucketSize = 10\n",
    "        self.bucketskets = [None for i in range(self.bucketSize)]\n",
    "        self.count = 0\n",
    "    def size(self):\n",
    "        return self.count\n",
    "    def getbuckeIndex(self,hc):\n",
    "        return (abs(hc) % (self.bucketSize))\n",
    "    def insert(self,key,value):\n",
    "\n",
    "        hc = hash(key)\n",
    "        index = self.getbuckeIndex(hc)\n",
    "        head = self.bucketskets[index]\n",
    "        while head is not None:\n",
    "            if head.key == key :\n",
    "                head.value = value\n",
    "                return\n",
    "            head = head.next\n",
    "        newNode = Mapnode(key,value)\n",
    "        newNode.next = head\n",
    "        self.bucketskets[index] = newNode\n",
    "        self.count += 1\n",
    "m = Map()\n",
    "m.insert('anshu',2)\n",
    "print(m.size())\n",
    "m.insert('pinu',7)\n",
    "print(m.size())\n"
   ]
  }
 ],
 "metadata": {
  "kernelspec": {
   "display_name": "Python 3 (ipykernel)",
   "language": "python",
   "name": "python3"
  },
  "language_info": {
   "codemirror_mode": {
    "name": "ipython",
    "version": 3
   },
   "file_extension": ".py",
   "mimetype": "text/x-python",
   "name": "python",
   "nbconvert_exporter": "python",
   "pygments_lexer": "ipython3",
   "version": "3.9.7"
  }
 },
 "nbformat": 4,
 "nbformat_minor": 5
}
