{
 "cells": [
  {
   "cell_type": "code",
   "execution_count": 2,
   "id": "af929518",
   "metadata": {},
   "outputs": [
    {
     "name": "stdout",
     "output_type": "stream",
     "text": [
      "[1, 2, 3, 4, 5]\n"
     ]
    }
   ],
   "source": [
    "array = [1,2,3,4,5]\n",
    "print(array)"
   ]
  },
  {
   "cell_type": "code",
   "execution_count": 6,
   "id": "5a9a0999",
   "metadata": {
    "scrolled": true
   },
   "outputs": [
    {
     "name": "stdout",
     "output_type": "stream",
     "text": [
      "19\n"
     ]
    },
    {
     "data": {
      "text/plain": [
       "3"
      ]
     },
     "execution_count": 6,
     "metadata": {},
     "output_type": "execute_result"
    }
   ],
   "source": [
    "arr = [1,2,2,2,43,54,6,7,8,89,5,4,3,2,12,1,2,34,55,3]\n",
    "print(len(arr)-1)\n",
    "arr[len(arr)-1 ]"
   ]
  },
  {
   "cell_type": "code",
   "execution_count": 5,
   "id": "a4cf9559",
   "metadata": {
    "scrolled": true
   },
   "outputs": [
    {
     "name": "stdout",
     "output_type": "stream",
     "text": [
      "4\n"
     ]
    }
   ],
   "source": [
    "print(array[3]) # this the commend for acessing the ele from the array "
   ]
  },
  {
   "cell_type": "code",
   "execution_count": 9,
   "id": "41a64457",
   "metadata": {},
   "outputs": [
    {
     "name": "stdout",
     "output_type": "stream",
     "text": [
      "['abs', 'ans', 'sbd']\n"
     ]
    }
   ],
   "source": [
    "ab = [\"abs\",\"ans\",\"sbd\"]\n",
    "print(ab)"
   ]
  },
  {
   "cell_type": "code",
   "execution_count": 10,
   "id": "1541929a",
   "metadata": {},
   "outputs": [
    {
     "name": "stdout",
     "output_type": "stream",
     "text": [
      "['ansushos', 786, 45, 2.3, 'ansshuman']\n"
     ]
    }
   ],
   "source": [
    "array = [\"ansushos\",  786,45,2.3,\"ansshuman\"]\n",
    "print(array)\n"
   ]
  },
  {
   "cell_type": "code",
   "execution_count": 8,
   "id": "26688a87",
   "metadata": {},
   "outputs": [],
   "source": [
    "arr = [4,5,6,7,8,9,0,1,3,4,5,6]"
   ]
  },
  {
   "cell_type": "code",
   "execution_count": null,
   "id": "6f2acde1",
   "metadata": {},
   "outputs": [],
   "source": []
  },
  {
   "cell_type": "code",
   "execution_count": 14,
   "id": "09c0605f",
   "metadata": {},
   "outputs": [
    {
     "data": {
      "text/plain": [
       "5"
      ]
     },
     "execution_count": 14,
     "metadata": {},
     "output_type": "execute_result"
    }
   ],
   "source": [
    "arr[0]\n",
    "arr[1]\n",
    "arr[10]"
   ]
  },
  {
   "cell_type": "code",
   "execution_count": 15,
   "id": "d22efd88",
   "metadata": {},
   "outputs": [],
   "source": [
    "arr= [1,2,3,43,56,7,8,9,3333]"
   ]
  },
  {
   "cell_type": "code",
   "execution_count": null,
   "id": "88316a34",
   "metadata": {},
   "outputs": [],
   "source": []
  },
  {
   "cell_type": "code",
   "execution_count": 19,
   "id": "694bd300",
   "metadata": {},
   "outputs": [
    {
     "data": {
      "text/plain": [
       "9"
      ]
     },
     "execution_count": 19,
     "metadata": {},
     "output_type": "execute_result"
    }
   ],
   "source": [
    "n = len(arr)\n",
    "arr[n-2 ]"
   ]
  },
  {
   "cell_type": "code",
   "execution_count": null,
   "id": "48a602bd",
   "metadata": {},
   "outputs": [],
   "source": [
    "# replacing "
   ]
  },
  {
   "cell_type": "code",
   "execution_count": 22,
   "id": "429daedf",
   "metadata": {},
   "outputs": [],
   "source": [
    "l1 = ['Mother', 'Father', 'Daughter', 10, 23]\n",
    "l1[2] = \"som\"\n"
   ]
  },
  {
   "cell_type": "code",
   "execution_count": 24,
   "id": "4021fe57",
   "metadata": {},
   "outputs": [],
   "source": [
    "l1[-1] = 7867868"
   ]
  },
  {
   "cell_type": "code",
   "execution_count": 25,
   "id": "4fd606df",
   "metadata": {},
   "outputs": [
    {
     "name": "stdout",
     "output_type": "stream",
     "text": [
      "['Mother', 'Father', 'som', 10, 7867868]\n"
     ]
    }
   ],
   "source": [
    "print(l1)"
   ]
  },
  {
   "cell_type": "code",
   "execution_count": 27,
   "id": "5e8e9e06",
   "metadata": {},
   "outputs": [],
   "source": [
    "# adding the two array \n",
    "arr1 = [3,4,5,6,7,8]\n",
    "arr2 = [9,11,22,33,444]"
   ]
  },
  {
   "cell_type": "code",
   "execution_count": 30,
   "id": "1d32be95",
   "metadata": {},
   "outputs": [],
   "source": [
    "total = arr1 + arr2"
   ]
  },
  {
   "cell_type": "code",
   "execution_count": 31,
   "id": "1191e19f",
   "metadata": {},
   "outputs": [
    {
     "name": "stdout",
     "output_type": "stream",
     "text": [
      "[3, 4, 5, 6, 7, 8, 9, 11, 22, 33, 444]\n"
     ]
    }
   ],
   "source": [
    "print(total)"
   ]
  },
  {
   "cell_type": "code",
   "execution_count": 29,
   "id": "42ebba97",
   "metadata": {},
   "outputs": [
    {
     "data": {
      "text/plain": [
       "[3, 4, 5, 6, 7, 8]"
      ]
     },
     "execution_count": 29,
     "metadata": {},
     "output_type": "execute_result"
    }
   ],
   "source": [
    "arr1"
   ]
  },
  {
   "cell_type": "markdown",
   "id": "72e50cce",
   "metadata": {},
   "source": [
    "Repeating/Replicating List"
   ]
  },
  {
   "cell_type": "code",
   "execution_count": 34,
   "id": "a660ca2c",
   "metadata": {},
   "outputs": [
    {
     "name": "stdout",
     "output_type": "stream",
     "text": [
      "[1, 2, 3, 4, 5, 1, 2, 3, 4, 5, 1, 2, 3, 4, 5, 1, 2, 3, 4, 5, 1, 2, 3, 4, 5, 1, 2, 3, 4, 5, 1, 2, 3, 4, 5, 1, 2, 3, 4, 5]\n"
     ]
    }
   ],
   "source": [
    "arr = [1,2,3,4,5]\n",
    "print(arr*8)"
   ]
  },
  {
   "cell_type": "code",
   "execution_count": null,
   "id": "44ba2dc0",
   "metadata": {},
   "outputs": [],
   "source": [
    "# slice= <List Name>[StartIndex : StopIndex : Steps]"
   ]
  },
  {
   "cell_type": "code",
   "execution_count": 2,
   "id": "fd4bffa7",
   "metadata": {},
   "outputs": [],
   "source": [
    "arr = [4,5,6,7,8,9,0,1,3,4,5,6]"
   ]
  },
  {
   "cell_type": "code",
   "execution_count": null,
   "id": "9add420e",
   "metadata": {},
   "outputs": [],
   "source": []
  },
  {
   "cell_type": "code",
   "execution_count": 7,
   "id": "9f3c7ca1",
   "metadata": {},
   "outputs": [
    {
     "name": "stdout",
     "output_type": "stream",
     "text": [
      "[4, 5, 6, 7, 8, 9]\n"
     ]
    }
   ],
   "source": [
    "ans = arr[0:6:1]\n",
    "print(ans)"
   ]
  },
  {
   "cell_type": "code",
   "execution_count": 8,
   "id": "77db214e",
   "metadata": {},
   "outputs": [
    {
     "name": "stdout",
     "output_type": "stream",
     "text": [
      "[4, 6, 8]\n"
     ]
    }
   ],
   "source": [
    "ans = arr[0:6:2]\n",
    "print(ans)"
   ]
  },
  {
   "cell_type": "code",
   "execution_count": 11,
   "id": "607f70bb",
   "metadata": {},
   "outputs": [
    {
     "name": "stdout",
     "output_type": "stream",
     "text": [
      "[7, 9, 1]\n"
     ]
    }
   ],
   "source": [
    "ans = arr[3:8:2]\n",
    "print(ans)"
   ]
  },
  {
   "cell_type": "code",
   "execution_count": 3,
   "id": "a001b654",
   "metadata": {},
   "outputs": [
    {
     "data": {
      "text/plain": [
       "[4, 5, 6, 7, 8, 9]"
      ]
     },
     "execution_count": 3,
     "metadata": {},
     "output_type": "execute_result"
    }
   ],
   "source": [
    "arr[0:6:1]"
   ]
  },
  {
   "cell_type": "code",
   "execution_count": 13,
   "id": "4eff2be2",
   "metadata": {},
   "outputs": [
    {
     "name": "stdout",
     "output_type": "stream",
     "text": [
      "[3, 4, 5]\n"
     ]
    }
   ],
   "source": [
    "ans = arr[8:-1]\n",
    "print(ans)\n"
   ]
  },
  {
   "cell_type": "code",
   "execution_count": null,
   "id": "1cd640d5",
   "metadata": {},
   "outputs": [],
   "source": [
    "# reverse the array \n",
    "how "
   ]
  },
  {
   "cell_type": "code",
   "execution_count": 14,
   "id": "56a1790a",
   "metadata": {},
   "outputs": [
    {
     "name": "stdout",
     "output_type": "stream",
     "text": [
      "The original string is : Geeks4geeks\n",
      "The reversed string(usingloop) is : G\n"
     ]
    }
   ],
   "source": [
    "def reverse(s):\n",
    "    str = \"\"\n",
    "    for i in s:\n",
    "        str = i + str\n",
    "        return str\n",
    "    \n",
    "s = \"Geeks4geeks\"\n",
    "\n",
    "print(\"The original string is : \",end=\"\")\n",
    "print (s)\n",
    "\n",
    "print (\"The reversed string(usingloop) is : \",end=\"\")\n",
    "print (reverse(s))\n",
    "# indentation ERROR"
   ]
  },
  {
   "cell_type": "code",
   "execution_count": 22,
   "id": "ec87f898",
   "metadata": {},
   "outputs": [],
   "source": [
    "# revse the string \n",
    "ans = [\"anshuman\",\"hello\",\"by\"]"
   ]
  },
  {
   "cell_type": "code",
   "execution_count": 23,
   "id": "a20b9709",
   "metadata": {},
   "outputs": [
    {
     "data": {
      "text/plain": [
       "['by', 'hello', 'anshuman']"
      ]
     },
     "execution_count": 23,
     "metadata": {},
     "output_type": "execute_result"
    }
   ],
   "source": [
    "ans[::-1]"
   ]
  },
  {
   "cell_type": "markdown",
   "id": "cf4700f6",
   "metadata": {},
   "source": [
    "## append"
   ]
  },
  {
   "cell_type": "code",
   "execution_count": 1,
   "id": "23cecdc7",
   "metadata": {},
   "outputs": [],
   "source": [
    "arr = [1,2,3,4,5]"
   ]
  },
  {
   "cell_type": "code",
   "execution_count": 4,
   "id": "90c28b65",
   "metadata": {},
   "outputs": [
    {
     "name": "stdout",
     "output_type": "stream",
     "text": [
      "[1, 2, 3, 4, 5, 6, 7, 8]\n"
     ]
    }
   ],
   "source": [
    "# when we have to add the ele at the last position then we can use appen \n",
    "arr.append(8)\n",
    "print(arr)"
   ]
  },
  {
   "cell_type": "markdown",
   "id": "a7452f19",
   "metadata": {},
   "source": [
    " ## extend():"
   ]
  },
  {
   "cell_type": "code",
   "execution_count": 9,
   "id": "2a18efd1",
   "metadata": {},
   "outputs": [
    {
     "name": "stdout",
     "output_type": "stream",
     "text": [
      "[1, 2, 3, 4, 5, 6, 8, 11, 22, 33, 44, 55, 66, 77]\n"
     ]
    }
   ],
   "source": [
    "arr1 = [1,2,3,4,5,6,8]\n",
    "arr2 = [11,22,33,44,55,66,77]\n",
    "arr1.extend(arr2)\n",
    "print(arr1)\n"
   ]
  },
  {
   "cell_type": "code",
   "execution_count": 7,
   "id": "0db63ef0",
   "metadata": {},
   "outputs": [
    {
     "name": "stdout",
     "output_type": "stream",
     "text": [
      "[11, 22, 33, 44, 55, 66, 77, 1, 2, 3, 4, 5, 6, 8, 11, 22, 33, 44, 55, 66, 77, 1, 2, 3, 4, 5, 6, 8, 11, 22, 33, 44, 55, 66, 77]\n"
     ]
    }
   ],
   "source": [
    "arr2.extend(arr1)\n",
    "print(arr2)"
   ]
  },
  {
   "cell_type": "markdown",
   "id": "baf30f10",
   "metadata": {},
   "source": [
    "## insert():"
   ]
  },
  {
   "cell_type": "code",
   "execution_count": 12,
   "id": "d2fda5e7",
   "metadata": {},
   "outputs": [
    {
     "name": "stdout",
     "output_type": "stream",
     "text": [
      "[9, 8, 45, 6, 5, 3, 2]\n"
     ]
    }
   ],
   "source": [
    "arr = [9,8,6,5,3,2]\n",
    "arr.insert(2,45)\n",
    "print(arr)"
   ]
  },
  {
   "cell_type": "code",
   "execution_count": 15,
   "id": "bfd21d1e",
   "metadata": {},
   "outputs": [
    {
     "data": {
      "text/plain": [
       "78"
      ]
     },
     "execution_count": 15,
     "metadata": {},
     "output_type": "execute_result"
    }
   ],
   "source": [
    "# when you have to calulate sum of ele of array\n",
    "sum(arr)\n"
   ]
  },
  {
   "cell_type": "code",
   "execution_count": 16,
   "id": "b80dbc45",
   "metadata": {},
   "outputs": [
    {
     "data": {
      "text/plain": [
       "3"
      ]
     },
     "execution_count": 16,
     "metadata": {},
     "output_type": "execute_result"
    }
   ],
   "source": [
    "# count \n",
    "arr = [1,22,3,3,22,22,1,3,4]\n",
    "arr.count(22)"
   ]
  },
  {
   "cell_type": "code",
   "execution_count": 19,
   "id": "8caccf26",
   "metadata": {},
   "outputs": [
    {
     "data": {
      "text/plain": [
       "4"
      ]
     },
     "execution_count": 19,
     "metadata": {},
     "output_type": "execute_result"
    }
   ],
   "source": [
    "# when we have to find the len of the array \n",
    "arr = [1,2,3,45,6]\n",
    "len(arr) -1 \n"
   ]
  },
  {
   "cell_type": "code",
   "execution_count": 23,
   "id": "d7c55ac5",
   "metadata": {},
   "outputs": [
    {
     "data": {
      "text/plain": [
       "7"
      ]
     },
     "execution_count": 23,
     "metadata": {},
     "output_type": "execute_result"
    }
   ],
   "source": [
    "anshuman= [1,6,7,8,95,4,33,33,5668,333,6,5,556,3]\n",
    "anshuman.index(33)\n"
   ]
  },
  {
   "cell_type": "code",
   "execution_count": null,
   "id": "15bda512",
   "metadata": {},
   "outputs": [],
   "source": []
  },
  {
   "cell_type": "code",
   "execution_count": 24,
   "id": "001ac81c",
   "metadata": {},
   "outputs": [
    {
     "data": {
      "text/plain": [
       "1"
      ]
     },
     "execution_count": 24,
     "metadata": {},
     "output_type": "execute_result"
    }
   ],
   "source": [
    "#minimum\n",
    "min(anshuman)"
   ]
  },
  {
   "cell_type": "code",
   "execution_count": 25,
   "id": "57b70b8d",
   "metadata": {},
   "outputs": [
    {
     "data": {
      "text/plain": [
       "5668"
      ]
     },
     "execution_count": 25,
     "metadata": {},
     "output_type": "execute_result"
    }
   ],
   "source": [
    "# maximum\n",
    "max(anshuman)"
   ]
  },
  {
   "cell_type": "code",
   "execution_count": 28,
   "id": "0a2f3478",
   "metadata": {},
   "outputs": [
    {
     "name": "stdout",
     "output_type": "stream",
     "text": [
      "[1, 2, 5, 6]\n"
     ]
    }
   ],
   "source": [
    "arr = [1,2,34,5,6]\n",
    "arr.pop(2)\n",
    "print(arr)\n"
   ]
  },
  {
   "cell_type": "code",
   "execution_count": 29,
   "id": "e841d9ab",
   "metadata": {},
   "outputs": [
    {
     "name": "stdout",
     "output_type": "stream",
     "text": [
      "[1, 5, 6]\n"
     ]
    }
   ],
   "source": [
    "arr.pop(1)\n",
    "print(arr)"
   ]
  },
  {
   "cell_type": "code",
   "execution_count": 30,
   "id": "0ff850fc",
   "metadata": {},
   "outputs": [
    {
     "name": "stdout",
     "output_type": "stream",
     "text": [
      "[1, 2, 3, 4, 4, 5]\n"
     ]
    }
   ],
   "source": [
    "# remove \n",
    "arr = [1,2,3,4,4,54,5]\n",
    "arr.remove(54)\n",
    "print(arr)"
   ]
  },
  {
   "cell_type": "code",
   "execution_count": 32,
   "id": "a572e034",
   "metadata": {},
   "outputs": [
    {
     "name": "stdout",
     "output_type": "stream",
     "text": [
      "[1, 2, 3, 5]\n"
     ]
    }
   ],
   "source": [
    "arr.remove(4)\n",
    "print(arr)"
   ]
  },
  {
   "cell_type": "code",
   "execution_count": 35,
   "id": "567d895d",
   "metadata": {},
   "outputs": [
    {
     "name": "stdout",
     "output_type": "stream",
     "text": [
      "3\n",
      "4\n",
      "5\n",
      "6\n",
      "7\n",
      "8\n",
      "9\n"
     ]
    }
   ],
   "source": [
    "# itrate through the entrie array \n",
    "anshuman = [1,2,3,4,5,6,7]\n",
    "for j in anshuman:\n",
    "    print(j + 2)\n",
    "    "
   ]
  },
  {
   "cell_type": "code",
   "execution_count": 43,
   "id": "fe8b9d14",
   "metadata": {},
   "outputs": [
    {
     "name": "stdout",
     "output_type": "stream",
     "text": [
      "1\n",
      "2\n",
      "3\n",
      "4\n",
      "5\n"
     ]
    }
   ],
   "source": [
    "### how to take the input form the user \n",
    "li=[] #Create empty list\n",
    "for i in range(5): #Run the loop 5 times\n",
    "    a=int(input()) #Take user input\n",
    "li.append(a) #Append it to the list"
   ]
  },
  {
   "cell_type": "code",
   "execution_count": 48,
   "id": "a8f3aedd",
   "metadata": {},
   "outputs": [],
   "source": [
    "arr = [1,2,3,4,5,6,7,7]\n",
    "split "
   ]
  },
  {
   "cell_type": "code",
   "execution_count": 51,
   "id": "f94ef20a",
   "metadata": {},
   "outputs": [
    {
     "name": "stdout",
     "output_type": "stream",
     "text": [
      "1 2 3 4 5  8 9 \n",
      "[1, 2, 3, 4, 5, 8, 9]\n"
     ]
    }
   ],
   "source": [
    "# how to take the input from the user in a line \n",
    "arr = [int(x) for x in input().split()]\n",
    "print(arr)"
   ]
  },
  {
   "cell_type": "code",
   "execution_count": null,
   "id": "47735184",
   "metadata": {},
   "outputs": [],
   "source": []
  },
  {
   "cell_type": "code",
   "execution_count": null,
   "id": "85320c97",
   "metadata": {},
   "outputs": [],
   "source": []
  },
  {
   "cell_type": "code",
   "execution_count": 39,
   "id": "1cadef32",
   "metadata": {},
   "outputs": [
    {
     "name": "stdout",
     "output_type": "stream",
     "text": [
      "[5]\n"
     ]
    }
   ],
   "source": [
    "print(li)"
   ]
  }
 ],
 "metadata": {
  "kernelspec": {
   "display_name": "Python 3 (ipykernel)",
   "language": "python",
   "name": "python3"
  },
  "language_info": {
   "codemirror_mode": {
    "name": "ipython",
    "version": 3
   },
   "file_extension": ".py",
   "mimetype": "text/x-python",
   "name": "python",
   "nbconvert_exporter": "python",
   "pygments_lexer": "ipython3",
   "version": "3.9.7"
  }
 },
 "nbformat": 4,
 "nbformat_minor": 5
}
