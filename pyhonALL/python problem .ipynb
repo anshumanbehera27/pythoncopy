{
 "cells": [
  {
   "cell_type": "markdown",
   "id": "6b73b594",
   "metadata": {},
   "source": [
    "## Find average Marks\n",
    "Write a program to input marks of three tests of a student (all integers).\n",
    "Then calculate and print the average of all test marks."
   ]
  },
  {
   "cell_type": "code",
   "execution_count": 4,
   "id": "742ff770",
   "metadata": {},
   "outputs": [
    {
     "name": "stdout",
     "output_type": "stream",
     "text": [
      "67\n",
      "8\n",
      "56\n",
      "the avg number is  93\n"
     ]
    }
   ],
   "source": [
    "a= int(input())\n",
    "b = int(input())\n",
    "c = int(input())\n",
    "avg = a+b+c // 3\n",
    "print(\"the avg number is \",avg)"
   ]
  },
  {
   "cell_type": "markdown",
   "id": "5f4bfff2",
   "metadata": {},
   "source": [
    "## Find X raised to power N\n",
    "You are given two integers: X and N. You have to calculate X raised to power N and print it."
   ]
  },
  {
   "cell_type": "code",
   "execution_count": 5,
   "id": "4b195742",
   "metadata": {},
   "outputs": [
    {
     "name": "stdout",
     "output_type": "stream",
     "text": [
      "2\n",
      "3\n",
      "8\n"
     ]
    }
   ],
   "source": [
    "x = int(input())\n",
    "n = int(input())\n",
    "pow = x**n\n",
    "print(pow)"
   ]
  },
  {
   "cell_type": "markdown",
   "id": "f189b5e0",
   "metadata": {},
   "source": [
    "## Rectangular Area\n",
    "You are given a rectangle in a plane. The coordinates of one of its diagonals are provided to you. \n",
    "You have to print the total area of the rectangle.\n",
    "The coordinates of the rectangle are provided as four integral values: x1, y1, x2, y2. It is given that x1 < x2 and y1 < y2."
   ]
  },
  {
   "cell_type": "code",
   "execution_count": 7,
   "id": "3e544260",
   "metadata": {},
   "outputs": [
    {
     "name": "stdout",
     "output_type": "stream",
     "text": [
      "1\n",
      "2\n",
      "4\n",
      "5\n",
      "the area is 9\n"
     ]
    }
   ],
   "source": [
    "x1= int(input())\n",
    "y1= int(input())\n",
    "x2= int(input())\n",
    "y2= int(input())\n",
    "area= (y2-y1)*(x2-x1)\n",
    "print(\"the area is\",area)\n",
    "\n"
   ]
  },
  {
   "cell_type": "markdown",
   "id": "cd35ce9b",
   "metadata": {},
   "source": [
    "## Arithmetic Progression\n",
    "Send Feedback\n",
    "You are given first three entries of an arithmetic progression. You have to calculate the common difference and print it."
   ]
  },
  {
   "cell_type": "markdown",
   "id": "17e80102",
   "metadata": {},
   "source": [
    "1-Take name as input and print a greeting message for that name.\n",
    "2-Write a program to input principle, time, and rate (P, T, R) from the user and find Simple Interest.\n",
    "3-Take in two numbers and an operator (+, -, *, /) and calculate the value. (Use if conditions)"
   ]
  },
  {
   "cell_type": "code",
   "execution_count": null,
   "id": "5228dec4",
   "metadata": {},
   "outputs": [],
   "source": []
  },
  {
   "cell_type": "code",
   "execution_count": null,
   "id": "3319d16a",
   "metadata": {},
   "outputs": [],
   "source": []
  },
  {
   "cell_type": "code",
   "execution_count": null,
   "id": "aa9f66ab",
   "metadata": {},
   "outputs": [],
   "source": []
  }
 ],
 "metadata": {
  "kernelspec": {
   "display_name": "Python 3 (ipykernel)",
   "language": "python",
   "name": "python3"
  },
  "language_info": {
   "codemirror_mode": {
    "name": "ipython",
    "version": 3
   },
   "file_extension": ".py",
   "mimetype": "text/x-python",
   "name": "python",
   "nbconvert_exporter": "python",
   "pygments_lexer": "ipython3",
   "version": "3.9.7"
  }
 },
 "nbformat": 4,
 "nbformat_minor": 5
}
