{
 "cells": [
  {
   "cell_type": "code",
   "execution_count": 4,
   "id": "db19a63f",
   "metadata": {},
   "outputs": [
    {
     "name": "stdout",
     "output_type": "stream",
     "text": [
      "anshuman\n",
      "hii\n"
     ]
    }
   ],
   "source": [
    "std = \"anshuman\"\n",
    "print(std)\n",
    "s2 = \"hii\"\n",
    "print(s2)"
   ]
  },
  {
   "cell_type": "code",
   "execution_count": 6,
   "id": "72a63e09",
   "metadata": {},
   "outputs": [
    {
     "name": "stdout",
     "output_type": "stream",
     "text": [
      "hey \n",
      "\n",
      "      this the best thing about \n",
      "      the python \n"
     ]
    }
   ],
   "source": [
    "std = '''hey \n",
    "\n",
    "      this the best thing about \n",
    "      the python '''\n",
    "print(std)"
   ]
  },
  {
   "cell_type": "code",
   "execution_count": 7,
   "id": "f1224153",
   "metadata": {},
   "outputs": [
    {
     "name": "stdout",
     "output_type": "stream",
     "text": [
      "anshuman\n",
      "behera\n"
     ]
    }
   ],
   "source": [
    "# how to break the line \n",
    "# by using \\n \n",
    "print(\"anshuman\\nbehera\")"
   ]
  },
  {
   "cell_type": "code",
   "execution_count": 10,
   "id": "43f62c36",
   "metadata": {},
   "outputs": [
    {
     "data": {
      "text/plain": [
       "'o'"
      ]
     },
     "execution_count": 10,
     "metadata": {},
     "output_type": "execute_result"
    }
   ],
   "source": [
    "s1 = \"hello\"\n",
    "s1[0] =\n",
    "s1[2]\n",
    "s1[4]"
   ]
  },
  {
   "cell_type": "code",
   "execution_count": 12,
   "id": "2acffa12",
   "metadata": {},
   "outputs": [
    {
     "data": {
      "text/plain": [
       "'l'"
      ]
     },
     "execution_count": 12,
     "metadata": {},
     "output_type": "execute_result"
    }
   ],
   "source": [
    "s1[-1]\n",
    "s1[-2]"
   ]
  },
  {
   "cell_type": "code",
   "execution_count": 23,
   "id": "d9525f80",
   "metadata": {},
   "outputs": [
    {
     "name": "stdout",
     "output_type": "stream",
     "text": [
      "anshuman  behera\n"
     ]
    }
   ],
   "source": [
    "s1 = \"anshuman\"\n",
    "s2 = \"  behera\"\n",
    "ans = s1 +s2 \n",
    "print(ans)\n"
   ]
  },
  {
   "cell_type": "code",
   "execution_count": 28,
   "id": "9dd3f9d8",
   "metadata": {},
   "outputs": [
    {
     "name": "stdout",
     "output_type": "stream",
     "text": [
      "hello  hello  hello  hello  hello  hello  hello  hello  hello  hello  \n"
     ]
    }
   ],
   "source": [
    "print(\"hello  \" * 10)"
   ]
  },
  {
   "cell_type": "code",
   "execution_count": 34,
   "id": "af8812a2",
   "metadata": {},
   "outputs": [
    {
     "data": {
      "text/plain": [
       "'asuaB'"
      ]
     },
     "execution_count": 34,
     "metadata": {},
     "output_type": "execute_result"
    }
   ],
   "source": [
    "ans = \"anshumanBehera\"\n",
    "len(ans)\n",
    "ans[0:10:2]"
   ]
  },
  {
   "cell_type": "code",
   "execution_count": 35,
   "id": "b5f9c74b",
   "metadata": {},
   "outputs": [
    {
     "data": {
      "text/plain": [
       "'nshumanBehera'"
      ]
     },
     "execution_count": 35,
     "metadata": {},
     "output_type": "execute_result"
    }
   ],
   "source": [
    "ans[1:]"
   ]
  },
  {
   "cell_type": "code",
   "execution_count": 37,
   "id": "79658b6e",
   "metadata": {},
   "outputs": [
    {
     "name": "stdout",
     "output_type": "stream",
     "text": [
      "hs\n",
      "es\n",
      "ls\n",
      "ls\n",
      "os\n"
     ]
    }
   ],
   "source": [
    "# you want to aess the each element in the string  \n",
    "std = \"hello\"\n",
    "for i in std:\n",
    "    print(i + \"s\")"
   ]
  }
 ],
 "metadata": {
  "kernelspec": {
   "display_name": "Python 3 (ipykernel)",
   "language": "python",
   "name": "python3"
  },
  "language_info": {
   "codemirror_mode": {
    "name": "ipython",
    "version": 3
   },
   "file_extension": ".py",
   "mimetype": "text/x-python",
   "name": "python",
   "nbconvert_exporter": "python",
   "pygments_lexer": "ipython3",
   "version": "3.9.7"
  }
 },
 "nbformat": 4,
 "nbformat_minor": 5
}
